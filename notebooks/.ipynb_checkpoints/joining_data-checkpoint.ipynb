{
 "cells": [
  {
   "cell_type": "markdown",
   "metadata": {},
   "source": [
    "Join the data from Part 1 with the data from Part 2 to create a new dataframe."
   ]
  },
  {
   "cell_type": "code",
   "execution_count": 1,
   "metadata": {},
   "outputs": [],
   "source": [
    "import pandas as pd\n",
    "import numpy as np\n",
    "import matplotlib.pyplot as plt\n",
    "import seaborn as sns"
   ]
  },
  {
   "cell_type": "code",
   "execution_count": 2,
   "metadata": {},
   "outputs": [],
   "source": [
    "#Import bike station data from part 1\n",
    "hamilton_citybike_df = pd.read_csv('../data/hamilton_citybike.csv', index_col=0)"
   ]
  },
  {
   "cell_type": "code",
   "execution_count": 3,
   "metadata": {},
   "outputs": [
    {
     "data": {
      "text/html": [
       "<div>\n",
       "<style scoped>\n",
       "    .dataframe tbody tr th:only-of-type {\n",
       "        vertical-align: middle;\n",
       "    }\n",
       "\n",
       "    .dataframe tbody tr th {\n",
       "        vertical-align: top;\n",
       "    }\n",
       "\n",
       "    .dataframe thead th {\n",
       "        text-align: right;\n",
       "    }\n",
       "</style>\n",
       "<table border=\"1\" class=\"dataframe\">\n",
       "  <thead>\n",
       "    <tr style=\"text-align: right;\">\n",
       "      <th></th>\n",
       "      <th>empty_slots</th>\n",
       "      <th>free_bikes</th>\n",
       "      <th>id</th>\n",
       "      <th>latitude</th>\n",
       "      <th>longitude</th>\n",
       "      <th>name</th>\n",
       "      <th>timestamp</th>\n",
       "      <th>total_bikes</th>\n",
       "      <th>address</th>\n",
       "    </tr>\n",
       "  </thead>\n",
       "  <tbody>\n",
       "    <tr>\n",
       "      <th>0</th>\n",
       "      <td>6</td>\n",
       "      <td>6</td>\n",
       "      <td>45dbb0009135e465f49f054517cbe74d</td>\n",
       "      <td>43.259126</td>\n",
       "      <td>-79.877212</td>\n",
       "      <td>Hess at king</td>\n",
       "      <td>2023-08-30T01:32:48.695000Z</td>\n",
       "      <td>12</td>\n",
       "      <td>15 Hess Street North, Hamilton</td>\n",
       "    </tr>\n",
       "    <tr>\n",
       "      <th>1</th>\n",
       "      <td>23</td>\n",
       "      <td>11</td>\n",
       "      <td>cd881edad122a75c57d94b381cdfc6c0</td>\n",
       "      <td>43.269288</td>\n",
       "      <td>-79.871327</td>\n",
       "      <td>Bayfront Park</td>\n",
       "      <td>2023-08-30T01:32:48.697000Z</td>\n",
       "      <td>34</td>\n",
       "      <td>Harbour Front Drive, North End, Hamilton, Ontario</td>\n",
       "    </tr>\n",
       "    <tr>\n",
       "      <th>2</th>\n",
       "      <td>25</td>\n",
       "      <td>0</td>\n",
       "      <td>024a3edf037cb411d16acc08a7fcb954</td>\n",
       "      <td>43.267859</td>\n",
       "      <td>-79.867923</td>\n",
       "      <td>Bay at Strachan</td>\n",
       "      <td>2023-08-30T01:32:48.698000Z</td>\n",
       "      <td>25</td>\n",
       "      <td>325 Bay Street North, Hamilton</td>\n",
       "    </tr>\n",
       "    <tr>\n",
       "      <th>3</th>\n",
       "      <td>9</td>\n",
       "      <td>5</td>\n",
       "      <td>b933317ff2861c45aacbea4cbf4b541f</td>\n",
       "      <td>43.263198</td>\n",
       "      <td>-79.871803</td>\n",
       "      <td>Bay at Mulberry</td>\n",
       "      <td>2023-08-30T01:32:48.698000Z</td>\n",
       "      <td>14</td>\n",
       "      <td>177, Bay Street North, Hess Village, Hamilton,...</td>\n",
       "    </tr>\n",
       "    <tr>\n",
       "      <th>4</th>\n",
       "      <td>10</td>\n",
       "      <td>7</td>\n",
       "      <td>20dc109608315db09a8332d6e6940c75</td>\n",
       "      <td>43.256132</td>\n",
       "      <td>-79.874499</td>\n",
       "      <td>City Hall</td>\n",
       "      <td>2023-08-30T01:32:48.700000Z</td>\n",
       "      <td>17</td>\n",
       "      <td>58 Bay Street South, Hamilton</td>\n",
       "    </tr>\n",
       "    <tr>\n",
       "      <th>...</th>\n",
       "      <td>...</td>\n",
       "      <td>...</td>\n",
       "      <td>...</td>\n",
       "      <td>...</td>\n",
       "      <td>...</td>\n",
       "      <td>...</td>\n",
       "      <td>...</td>\n",
       "      <td>...</td>\n",
       "      <td>...</td>\n",
       "    </tr>\n",
       "    <tr>\n",
       "      <th>139</th>\n",
       "      <td>1</td>\n",
       "      <td>8</td>\n",
       "      <td>8b7317cc71a48fcac26a3ebcd4da7f25</td>\n",
       "      <td>43.259604</td>\n",
       "      <td>-79.902103</td>\n",
       "      <td>Main at Longwood</td>\n",
       "      <td>2023-08-30T01:32:48.728000Z</td>\n",
       "      <td>9</td>\n",
       "      <td>122 Longwood Road South, Hamilton</td>\n",
       "    </tr>\n",
       "    <tr>\n",
       "      <th>140</th>\n",
       "      <td>6</td>\n",
       "      <td>7</td>\n",
       "      <td>b745b74c5f9f41debda6ab80a7d9d2ac</td>\n",
       "      <td>43.260008</td>\n",
       "      <td>-79.766388</td>\n",
       "      <td>Van Wagner's Beach</td>\n",
       "      <td>2023-08-30T01:32:48.767000Z</td>\n",
       "      <td>13</td>\n",
       "      <td>Waterfront Trail, Hamilton</td>\n",
       "    </tr>\n",
       "    <tr>\n",
       "      <th>141</th>\n",
       "      <td>3</td>\n",
       "      <td>2</td>\n",
       "      <td>c42abe3bb92ca77c23b2d7bfb49a21bc</td>\n",
       "      <td>43.257635</td>\n",
       "      <td>-79.868487</td>\n",
       "      <td>King William at James</td>\n",
       "      <td>2023-08-30T01:32:48.720000Z</td>\n",
       "      <td>5</td>\n",
       "      <td>39 King William Street, Hamilton</td>\n",
       "    </tr>\n",
       "    <tr>\n",
       "      <th>142</th>\n",
       "      <td>0</td>\n",
       "      <td>11</td>\n",
       "      <td>07cdf0ecc542669b685cfebafb3ce797</td>\n",
       "      <td>43.261712</td>\n",
       "      <td>-79.905901</td>\n",
       "      <td>Westdale Village - Paisley</td>\n",
       "      <td>2023-08-30T01:32:48.763000Z</td>\n",
       "      <td>11</td>\n",
       "      <td>2, Paisley Avenue South, Westdale, Hamilton, O...</td>\n",
       "    </tr>\n",
       "    <tr>\n",
       "      <th>143</th>\n",
       "      <td>7</td>\n",
       "      <td>1</td>\n",
       "      <td>45fddcb389047d2db3720be4f59e37c7</td>\n",
       "      <td>43.264869</td>\n",
       "      <td>-79.907480</td>\n",
       "      <td>Westdale Aviary</td>\n",
       "      <td>2023-08-30T01:32:48.763000Z</td>\n",
       "      <td>8</td>\n",
       "      <td>85, Oak Knoll Drive, Westdale, Hamilton, Ontario</td>\n",
       "    </tr>\n",
       "  </tbody>\n",
       "</table>\n",
       "<p>144 rows × 9 columns</p>\n",
       "</div>"
      ],
      "text/plain": [
       "     empty_slots  free_bikes                                id   latitude  \\\n",
       "0              6           6  45dbb0009135e465f49f054517cbe74d  43.259126   \n",
       "1             23          11  cd881edad122a75c57d94b381cdfc6c0  43.269288   \n",
       "2             25           0  024a3edf037cb411d16acc08a7fcb954  43.267859   \n",
       "3              9           5  b933317ff2861c45aacbea4cbf4b541f  43.263198   \n",
       "4             10           7  20dc109608315db09a8332d6e6940c75  43.256132   \n",
       "..           ...         ...                               ...        ...   \n",
       "139            1           8  8b7317cc71a48fcac26a3ebcd4da7f25  43.259604   \n",
       "140            6           7  b745b74c5f9f41debda6ab80a7d9d2ac  43.260008   \n",
       "141            3           2  c42abe3bb92ca77c23b2d7bfb49a21bc  43.257635   \n",
       "142            0          11  07cdf0ecc542669b685cfebafb3ce797  43.261712   \n",
       "143            7           1  45fddcb389047d2db3720be4f59e37c7  43.264869   \n",
       "\n",
       "     longitude                        name                    timestamp  \\\n",
       "0   -79.877212                Hess at king  2023-08-30T01:32:48.695000Z   \n",
       "1   -79.871327               Bayfront Park  2023-08-30T01:32:48.697000Z   \n",
       "2   -79.867923             Bay at Strachan  2023-08-30T01:32:48.698000Z   \n",
       "3   -79.871803             Bay at Mulberry  2023-08-30T01:32:48.698000Z   \n",
       "4   -79.874499                   City Hall  2023-08-30T01:32:48.700000Z   \n",
       "..         ...                         ...                          ...   \n",
       "139 -79.902103            Main at Longwood  2023-08-30T01:32:48.728000Z   \n",
       "140 -79.766388          Van Wagner's Beach  2023-08-30T01:32:48.767000Z   \n",
       "141 -79.868487       King William at James  2023-08-30T01:32:48.720000Z   \n",
       "142 -79.905901  Westdale Village - Paisley  2023-08-30T01:32:48.763000Z   \n",
       "143 -79.907480             Westdale Aviary  2023-08-30T01:32:48.763000Z   \n",
       "\n",
       "     total_bikes                                            address  \n",
       "0             12                     15 Hess Street North, Hamilton  \n",
       "1             34  Harbour Front Drive, North End, Hamilton, Ontario  \n",
       "2             25                     325 Bay Street North, Hamilton  \n",
       "3             14  177, Bay Street North, Hess Village, Hamilton,...  \n",
       "4             17                      58 Bay Street South, Hamilton  \n",
       "..           ...                                                ...  \n",
       "139            9                  122 Longwood Road South, Hamilton  \n",
       "140           13                         Waterfront Trail, Hamilton  \n",
       "141            5                   39 King William Street, Hamilton  \n",
       "142           11  2, Paisley Avenue South, Westdale, Hamilton, O...  \n",
       "143            8   85, Oak Knoll Drive, Westdale, Hamilton, Ontario  \n",
       "\n",
       "[144 rows x 9 columns]"
      ]
     },
     "execution_count": 3,
     "metadata": {},
     "output_type": "execute_result"
    }
   ],
   "source": [
    "hamilton_citybike_df"
   ]
  },
  {
   "cell_type": "code",
   "execution_count": 4,
   "metadata": {},
   "outputs": [],
   "source": [
    "#Import Yelp bike station data from part 2\n",
    "hamilton_citybike_yelp_df = pd.read_csv('../data/hamilton_citybike_yelp.csv', index_col=0)"
   ]
  },
  {
   "cell_type": "code",
   "execution_count": 5,
   "metadata": {},
   "outputs": [
    {
     "data": {
      "text/html": [
       "<div>\n",
       "<style scoped>\n",
       "    .dataframe tbody tr th:only-of-type {\n",
       "        vertical-align: middle;\n",
       "    }\n",
       "\n",
       "    .dataframe tbody tr th {\n",
       "        vertical-align: top;\n",
       "    }\n",
       "\n",
       "    .dataframe thead th {\n",
       "        text-align: right;\n",
       "    }\n",
       "</style>\n",
       "<table border=\"1\" class=\"dataframe\">\n",
       "  <thead>\n",
       "    <tr style=\"text-align: right;\">\n",
       "      <th></th>\n",
       "      <th>citybike_station</th>\n",
       "      <th>name</th>\n",
       "      <th>address</th>\n",
       "      <th>phone</th>\n",
       "      <th>latitude</th>\n",
       "      <th>longitude</th>\n",
       "      <th>distance</th>\n",
       "      <th>category</th>\n",
       "      <th>price</th>\n",
       "      <th>rating</th>\n",
       "      <th>review_count</th>\n",
       "    </tr>\n",
       "  </thead>\n",
       "  <tbody>\n",
       "    <tr>\n",
       "      <th>0</th>\n",
       "      <td>Hess at king</td>\n",
       "      <td>La Luna</td>\n",
       "      <td>306 King Street W, Hamilton, ON L8P 1B1, Canada</td>\n",
       "      <td>1.905577e+10</td>\n",
       "      <td>43.259422</td>\n",
       "      <td>-79.878488</td>\n",
       "      <td>108.424550</td>\n",
       "      <td>Middle Eastern</td>\n",
       "      <td>$$</td>\n",
       "      <td>4.0</td>\n",
       "      <td>63.0</td>\n",
       "    </tr>\n",
       "    <tr>\n",
       "      <th>1</th>\n",
       "      <td>Hess at king</td>\n",
       "      <td>Earth To Table : Bread Bar</td>\n",
       "      <td>258 Locke Street S, Hamilton, ON L8P 4B9, Canada</td>\n",
       "      <td>1.905522e+10</td>\n",
       "      <td>43.252840</td>\n",
       "      <td>-79.887020</td>\n",
       "      <td>1052.141521</td>\n",
       "      <td>Pizza, Breakfast &amp; Brunch, Salad</td>\n",
       "      <td>$$</td>\n",
       "      <td>4.5</td>\n",
       "      <td>296.0</td>\n",
       "    </tr>\n",
       "    <tr>\n",
       "      <th>2</th>\n",
       "      <td>Hess at king</td>\n",
       "      <td>Hambrgr</td>\n",
       "      <td>49 King William Street, Hamilton, ON L8R 1A2, ...</td>\n",
       "      <td>1.289389e+10</td>\n",
       "      <td>43.257210</td>\n",
       "      <td>-79.866900</td>\n",
       "      <td>858.672096</td>\n",
       "      <td>Burgers, Beer Bar</td>\n",
       "      <td>$$</td>\n",
       "      <td>4.5</td>\n",
       "      <td>204.0</td>\n",
       "    </tr>\n",
       "    <tr>\n",
       "      <th>3</th>\n",
       "      <td>Hess at king</td>\n",
       "      <td>The Ship</td>\n",
       "      <td>23 Augusta Street, Hamilton, ON L8N 1P6, Canada</td>\n",
       "      <td>1.905526e+10</td>\n",
       "      <td>43.252150</td>\n",
       "      <td>-79.870000</td>\n",
       "      <td>970.855528</td>\n",
       "      <td>Seafood, Pubs, Burgers</td>\n",
       "      <td>$$</td>\n",
       "      <td>4.0</td>\n",
       "      <td>216.0</td>\n",
       "    </tr>\n",
       "    <tr>\n",
       "      <th>4</th>\n",
       "      <td>Hess at king</td>\n",
       "      <td>The French</td>\n",
       "      <td>37 King William Street, Hamilton, ON L8R 1A1, ...</td>\n",
       "      <td>1.905528e+10</td>\n",
       "      <td>43.257410</td>\n",
       "      <td>-79.867480</td>\n",
       "      <td>814.105154</td>\n",
       "      <td>Bistros, French</td>\n",
       "      <td>$$$</td>\n",
       "      <td>4.0</td>\n",
       "      <td>99.0</td>\n",
       "    </tr>\n",
       "    <tr>\n",
       "      <th>...</th>\n",
       "      <td>...</td>\n",
       "      <td>...</td>\n",
       "      <td>...</td>\n",
       "      <td>...</td>\n",
       "      <td>...</td>\n",
       "      <td>...</td>\n",
       "      <td>...</td>\n",
       "      <td>...</td>\n",
       "      <td>...</td>\n",
       "      <td>...</td>\n",
       "      <td>...</td>\n",
       "    </tr>\n",
       "    <tr>\n",
       "      <th>2781</th>\n",
       "      <td>Westdale Aviary</td>\n",
       "      <td>Dragon Court</td>\n",
       "      <td>988 King Street W, Hamilton, ON L8S 1L1, Canada</td>\n",
       "      <td>1.905522e+10</td>\n",
       "      <td>43.262640</td>\n",
       "      <td>-79.904690</td>\n",
       "      <td>335.123551</td>\n",
       "      <td>Chinese</td>\n",
       "      <td>NaN</td>\n",
       "      <td>2.5</td>\n",
       "      <td>17.0</td>\n",
       "    </tr>\n",
       "    <tr>\n",
       "      <th>2782</th>\n",
       "      <td>Westdale Aviary</td>\n",
       "      <td>Mikel Coffee</td>\n",
       "      <td>1008 King Street W, Hamilton, ON L8S 1L4, Canada</td>\n",
       "      <td>1.289690e+10</td>\n",
       "      <td>43.262429</td>\n",
       "      <td>-79.905462</td>\n",
       "      <td>309.780253</td>\n",
       "      <td>Cafes, Bakeries</td>\n",
       "      <td>NaN</td>\n",
       "      <td>5.0</td>\n",
       "      <td>1.0</td>\n",
       "    </tr>\n",
       "    <tr>\n",
       "      <th>2783</th>\n",
       "      <td>Westdale Aviary</td>\n",
       "      <td>Weil's of Westdale Bakery</td>\n",
       "      <td>981 King St W, Hamilton, ON L8S 1K9, Canada</td>\n",
       "      <td>1.905528e+10</td>\n",
       "      <td>43.262300</td>\n",
       "      <td>-79.904260</td>\n",
       "      <td>383.661567</td>\n",
       "      <td>Bakeries</td>\n",
       "      <td>$</td>\n",
       "      <td>4.0</td>\n",
       "      <td>5.0</td>\n",
       "    </tr>\n",
       "    <tr>\n",
       "      <th>2784</th>\n",
       "      <td>Westdale Aviary</td>\n",
       "      <td>The Burnt Tongue</td>\n",
       "      <td>1019 King St W, Hamilton, ON L8S 1L1, Canada</td>\n",
       "      <td>1.289389e+10</td>\n",
       "      <td>43.261630</td>\n",
       "      <td>-79.905510</td>\n",
       "      <td>400.316360</td>\n",
       "      <td>Soup, Sandwiches, Salad</td>\n",
       "      <td>NaN</td>\n",
       "      <td>4.5</td>\n",
       "      <td>2.0</td>\n",
       "    </tr>\n",
       "    <tr>\n",
       "      <th>2785</th>\n",
       "      <td>NaN</td>\n",
       "      <td>NaN</td>\n",
       "      <td>NaN</td>\n",
       "      <td>NaN</td>\n",
       "      <td>NaN</td>\n",
       "      <td>NaN</td>\n",
       "      <td>NaN</td>\n",
       "      <td>NaN</td>\n",
       "      <td>NaN</td>\n",
       "      <td>NaN</td>\n",
       "      <td>NaN</td>\n",
       "    </tr>\n",
       "  </tbody>\n",
       "</table>\n",
       "<p>2786 rows × 11 columns</p>\n",
       "</div>"
      ],
      "text/plain": [
       "     citybike_station                        name  \\\n",
       "0        Hess at king                     La Luna   \n",
       "1        Hess at king  Earth To Table : Bread Bar   \n",
       "2        Hess at king                     Hambrgr   \n",
       "3        Hess at king                    The Ship   \n",
       "4        Hess at king                  The French   \n",
       "...               ...                         ...   \n",
       "2781  Westdale Aviary                Dragon Court   \n",
       "2782  Westdale Aviary                Mikel Coffee   \n",
       "2783  Westdale Aviary   Weil's of Westdale Bakery   \n",
       "2784  Westdale Aviary            The Burnt Tongue   \n",
       "2785              NaN                         NaN   \n",
       "\n",
       "                                                address         phone  \\\n",
       "0       306 King Street W, Hamilton, ON L8P 1B1, Canada  1.905577e+10   \n",
       "1      258 Locke Street S, Hamilton, ON L8P 4B9, Canada  1.905522e+10   \n",
       "2     49 King William Street, Hamilton, ON L8R 1A2, ...  1.289389e+10   \n",
       "3       23 Augusta Street, Hamilton, ON L8N 1P6, Canada  1.905526e+10   \n",
       "4     37 King William Street, Hamilton, ON L8R 1A1, ...  1.905528e+10   \n",
       "...                                                 ...           ...   \n",
       "2781    988 King Street W, Hamilton, ON L8S 1L1, Canada  1.905522e+10   \n",
       "2782   1008 King Street W, Hamilton, ON L8S 1L4, Canada  1.289690e+10   \n",
       "2783        981 King St W, Hamilton, ON L8S 1K9, Canada  1.905528e+10   \n",
       "2784       1019 King St W, Hamilton, ON L8S 1L1, Canada  1.289389e+10   \n",
       "2785                                                NaN           NaN   \n",
       "\n",
       "       latitude  longitude     distance                          category  \\\n",
       "0     43.259422 -79.878488   108.424550                    Middle Eastern   \n",
       "1     43.252840 -79.887020  1052.141521  Pizza, Breakfast & Brunch, Salad   \n",
       "2     43.257210 -79.866900   858.672096                 Burgers, Beer Bar   \n",
       "3     43.252150 -79.870000   970.855528            Seafood, Pubs, Burgers   \n",
       "4     43.257410 -79.867480   814.105154                   Bistros, French   \n",
       "...         ...        ...          ...                               ...   \n",
       "2781  43.262640 -79.904690   335.123551                           Chinese   \n",
       "2782  43.262429 -79.905462   309.780253                   Cafes, Bakeries   \n",
       "2783  43.262300 -79.904260   383.661567                          Bakeries   \n",
       "2784  43.261630 -79.905510   400.316360           Soup, Sandwiches, Salad   \n",
       "2785        NaN        NaN          NaN                               NaN   \n",
       "\n",
       "     price  rating  review_count  \n",
       "0       $$     4.0          63.0  \n",
       "1       $$     4.5         296.0  \n",
       "2       $$     4.5         204.0  \n",
       "3       $$     4.0         216.0  \n",
       "4      $$$     4.0          99.0  \n",
       "...    ...     ...           ...  \n",
       "2781   NaN     2.5          17.0  \n",
       "2782   NaN     5.0           1.0  \n",
       "2783     $     4.0           5.0  \n",
       "2784   NaN     4.5           2.0  \n",
       "2785   NaN     NaN           NaN  \n",
       "\n",
       "[2786 rows x 11 columns]"
      ]
     },
     "execution_count": 5,
     "metadata": {},
     "output_type": "execute_result"
    }
   ],
   "source": [
    "hamilton_citybike_yelp_df"
   ]
  },
  {
   "cell_type": "code",
   "execution_count": 6,
   "metadata": {},
   "outputs": [],
   "source": [
    "#Drop empty rows from both dataframes\n",
    "hamilton_citybike_df.dropna(how='all', inplace=True)\n",
    "hamilton_citybike_yelp_df.dropna(how='all', inplace=True)"
   ]
  },
  {
   "cell_type": "code",
   "execution_count": 7,
   "metadata": {},
   "outputs": [
    {
     "data": {
      "text/plain": [
       "empty_slots    0\n",
       "free_bikes     0\n",
       "id             0\n",
       "latitude       0\n",
       "longitude      0\n",
       "name           0\n",
       "timestamp      0\n",
       "total_bikes    0\n",
       "address        0\n",
       "dtype: int64"
      ]
     },
     "execution_count": 7,
     "metadata": {},
     "output_type": "execute_result"
    }
   ],
   "source": [
    "hamilton_citybike_df.isna().sum()"
   ]
  },
  {
   "cell_type": "code",
   "execution_count": 8,
   "metadata": {},
   "outputs": [
    {
     "data": {
      "text/plain": [
       "citybike_station      0\n",
       "name                  0\n",
       "address               0\n",
       "phone                 0\n",
       "latitude              0\n",
       "longitude             0\n",
       "distance              0\n",
       "category              0\n",
       "price               816\n",
       "rating                0\n",
       "review_count          0\n",
       "dtype: int64"
      ]
     },
     "execution_count": 8,
     "metadata": {},
     "output_type": "execute_result"
    }
   ],
   "source": [
    "hamilton_citybike_yelp_df.isna().sum()"
   ]
  },
  {
   "cell_type": "code",
   "execution_count": 9,
   "metadata": {},
   "outputs": [
    {
     "name": "stdout",
     "output_type": "stream",
     "text": [
      "<class 'pandas.core.frame.DataFrame'>\n",
      "Int64Index: 2633 entries, 0 to 2784\n",
      "Data columns (total 11 columns):\n",
      " #   Column            Non-Null Count  Dtype  \n",
      "---  ------            --------------  -----  \n",
      " 0   citybike_station  2633 non-null   object \n",
      " 1   name              2633 non-null   object \n",
      " 2   address           2633 non-null   object \n",
      " 3   phone             2633 non-null   float64\n",
      " 4   latitude          2633 non-null   float64\n",
      " 5   longitude         2633 non-null   float64\n",
      " 6   distance          2633 non-null   float64\n",
      " 7   category          2633 non-null   object \n",
      " 8   price             1817 non-null   object \n",
      " 9   rating            2633 non-null   float64\n",
      " 10  review_count      2633 non-null   float64\n",
      "dtypes: float64(6), object(5)\n",
      "memory usage: 246.8+ KB\n"
     ]
    }
   ],
   "source": [
    "hamilton_citybike_yelp_df.info()"
   ]
  },
  {
   "cell_type": "code",
   "execution_count": 10,
   "metadata": {},
   "outputs": [],
   "source": [
    "# Reset the indices of both dataframes\n",
    "hamilton_citybike_df.reset_index(drop=True, inplace=True)\n",
    "hamilton_citybike_yelp_df.reset_index(drop=True, inplace=True)"
   ]
  },
  {
   "cell_type": "code",
   "execution_count": 11,
   "metadata": {},
   "outputs": [],
   "source": [
    "# Merge the dataframes\n",
    "hamilton_df = hamilton_citybike_df.merge(hamilton_citybike_yelp_df, left_on='name', right_on='citybike_station', suffixes=('_citybike', ''))"
   ]
  },
  {
   "cell_type": "code",
   "execution_count": 12,
   "metadata": {},
   "outputs": [],
   "source": [
    "# Drop some irrelevant columns and rearrange columns\n",
    "hamilton_df = hamilton_df[['citybike_station',\n",
    "                           'address_citybike',\n",
    "                           'latitude_citybike',\n",
    "                           'longitude_citybike',\n",
    "                           'total_bikes',\n",
    "                           'name',\n",
    "                           'address',\n",
    "                           'latitude',\n",
    "                           'longitude',\n",
    "                           'distance',\n",
    "                           'phone',\n",
    "                           'category',\n",
    "                           'price',\n",
    "                           'rating',\n",
    "                           'review_count']]"
   ]
  },
  {
   "cell_type": "code",
   "execution_count": 13,
   "metadata": {},
   "outputs": [
    {
     "name": "stdout",
     "output_type": "stream",
     "text": [
      "  citybike_station                address_citybike  latitude_citybike  \\\n",
      "0     Hess at king  15 Hess Street North, Hamilton          43.259126   \n",
      "1     Hess at king  15 Hess Street North, Hamilton          43.259126   \n",
      "2     Hess at king  15 Hess Street North, Hamilton          43.259126   \n",
      "3     Hess at king  15 Hess Street North, Hamilton          43.259126   \n",
      "4     Hess at king  15 Hess Street North, Hamilton          43.259126   \n",
      "\n",
      "   longitude_citybike  total_bikes                        name  \\\n",
      "0          -79.877212           12                     La Luna   \n",
      "1          -79.877212           12  Earth To Table : Bread Bar   \n",
      "2          -79.877212           12                     Hambrgr   \n",
      "3          -79.877212           12                    The Ship   \n",
      "4          -79.877212           12                  The French   \n",
      "\n",
      "                                             address   latitude  longitude  \\\n",
      "0    306 King Street W, Hamilton, ON L8P 1B1, Canada  43.259422 -79.878488   \n",
      "1   258 Locke Street S, Hamilton, ON L8P 4B9, Canada  43.252840 -79.887020   \n",
      "2  49 King William Street, Hamilton, ON L8R 1A2, ...  43.257210 -79.866900   \n",
      "3    23 Augusta Street, Hamilton, ON L8N 1P6, Canada  43.252150 -79.870000   \n",
      "4  37 King William Street, Hamilton, ON L8R 1A1, ...  43.257410 -79.867480   \n",
      "\n",
      "      distance         phone                          category price  rating  \\\n",
      "0   108.424550  1.905577e+10                    Middle Eastern    $$     4.0   \n",
      "1  1052.141521  1.905522e+10  Pizza, Breakfast & Brunch, Salad    $$     4.5   \n",
      "2   858.672096  1.289389e+10                 Burgers, Beer Bar    $$     4.5   \n",
      "3   970.855528  1.905526e+10            Seafood, Pubs, Burgers    $$     4.0   \n",
      "4   814.105154  1.905528e+10                   Bistros, French   $$$     4.0   \n",
      "\n",
      "   review_count  \n",
      "0          63.0  \n",
      "1         296.0  \n",
      "2         204.0  \n",
      "3         216.0  \n",
      "4          99.0  \n"
     ]
    }
   ],
   "source": [
    "print(hamilton_df.head())"
   ]
  },
  {
   "cell_type": "markdown",
   "metadata": {},
   "source": [
    "Provide a visualization that you used as part of your EDA process. Explain the initial pattern or relationship you discoved through this visualization. "
   ]
  },
  {
   "cell_type": "code",
   "execution_count": 14,
   "metadata": {},
   "outputs": [],
   "source": [
    "# Make a copy of the dataframe for EDA purposes\n",
    "hamilton_eda_df = hamilton_df.copy()"
   ]
  },
  {
   "cell_type": "code",
   "execution_count": 15,
   "metadata": {},
   "outputs": [],
   "source": [
    "# Convert the dollar signs into numbers based on length, for ordinal data analyses\n",
    "hamilton_eda_df['price'] = hamilton_eda_df['price'].apply(lambda x: x if x == np.nan else len(str(x)))"
   ]
  },
  {
   "cell_type": "code",
   "execution_count": 16,
   "metadata": {},
   "outputs": [],
   "source": [
    "# Convert data type of price column to a numeric one\n",
    "hamilton_eda_df['price'] = hamilton_eda_df['price'].astype('float64')"
   ]
  },
  {
   "cell_type": "code",
   "execution_count": 17,
   "metadata": {},
   "outputs": [
    {
     "name": "stdout",
     "output_type": "stream",
     "text": [
      "       latitude_citybike  longitude_citybike  total_bikes     latitude  \\\n",
      "count        2633.000000         2633.000000  2633.000000  2633.000000   \n",
      "mean           43.257128          -79.876136    11.870870    43.256566   \n",
      "std             0.006628            0.030882     5.621824     0.008475   \n",
      "min            43.242163          -79.953754     1.000000    43.038541   \n",
      "25%            43.252052          -79.896498     9.000000    43.253720   \n",
      "50%            43.256569          -79.869577    11.000000    43.257401   \n",
      "75%            43.261819          -79.856711    13.000000    43.260980   \n",
      "max            43.289479          -79.766388    35.000000    43.291247   \n",
      "\n",
      "         longitude      distance         phone        price       rating  \\\n",
      "count  2633.000000   2633.000000  2.633000e+03  2633.000000  2633.000000   \n",
      "mean    -79.874447    616.942295  1.734696e+10     2.162932     3.981010   \n",
      "std       0.034548    572.893703  2.716024e+09     0.752681     0.721087   \n",
      "min     -79.982899      6.905015  1.289239e+10     1.000000     1.000000   \n",
      "25%     -79.892938    344.416237  1.289789e+10     2.000000     4.000000   \n",
      "50%     -79.867480    594.064689  1.905523e+10     2.000000     4.000000   \n",
      "75%     -79.861077    884.158616  1.905529e+10     3.000000     4.500000   \n",
      "max     -79.745870  24711.748540  1.905973e+10     4.000000     5.000000   \n",
      "\n",
      "       review_count  \n",
      "count   2633.000000  \n",
      "mean      38.763388  \n",
      "std       51.606662  \n",
      "min        1.000000  \n",
      "25%        7.000000  \n",
      "50%       21.000000  \n",
      "75%       43.000000  \n",
      "max      296.000000  \n"
     ]
    }
   ],
   "source": [
    "# Preview data to check for outliers\n",
    "print(hamilton_eda_df.describe())"
   ]
  },
  {
   "cell_type": "code",
   "execution_count": 18,
   "metadata": {},
   "outputs": [],
   "source": [
    "# Remove rows that have venues that are over 1km away from the bike stations\n",
    "hamilton_eda_df = hamilton_eda_df[hamilton_eda_df['distance'] < 1000]"
   ]
  },
  {
   "cell_type": "code",
   "execution_count": 19,
   "metadata": {},
   "outputs": [],
   "source": [
    "# Perform aggregate functions on relevant columns after grouping by bike stations\n",
    "# Price column will be left out due to a large portion (~30%) of it being empty\n",
    "\n",
    "hamilton_citybike_station_eda_df = hamilton_eda_df.groupby('citybike_station').agg({'total_bikes':['mean'],\n",
    "                                                                                    'name':['count'],\n",
    "                                                                                    'distance':['mean'],\n",
    "                                                                                    'rating':['mean'],\n",
    "                                                                                    'review_count':['mean']})"
   ]
  },
  {
   "cell_type": "code",
   "execution_count": 36,
   "metadata": {},
   "outputs": [
    {
     "data": {
      "image/png": "[encoded data removed]",
      "text/plain": [
       "<Figure size 640x480 with 2 Axes>"
      ]
     },
     "metadata": {},
     "output_type": "display_data"
    }
   ],
   "source": [
    "# Create a heatmap to observe correlations, using Kendall-Tau method since data doesn't seem to follow normal distribution\n",
    "sns.heatmap(hamilton_citybike_station_eda_df.corr(method='kendall', numeric_only=True), annot=True, cmap='crest')\n",
    "plt.show()"
   ]
  },
  {
   "cell_type": "markdown",
   "metadata": {},
   "source": [
    "# Database"
   ]
  },
  {
   "cell_type": "markdown",
   "metadata": {},
   "source": [
    "Put all your results in an SQLite3 database (remember, SQLite stores its databases as files in your local machine - make sure to create your database in your project's data/ directory!)"
   ]
  },
  {
   "cell_type": "code",
   "execution_count": 21,
   "metadata": {},
   "outputs": [],
   "source": [
    "import sqlite3\n",
    "from sqlite3 import Error\n",
    "from sqlalchemy import create_engine, text"
   ]
  },
  {
   "cell_type": "code",
   "execution_count": 22,
   "metadata": {},
   "outputs": [],
   "source": [
    "# Convert bike station index into column\n",
    "hamilton_citybike_station_eda_df['citybike_station'] = hamilton_citybike_station_eda_df.index"
   ]
  },
  {
   "cell_type": "code",
   "execution_count": 23,
   "metadata": {},
   "outputs": [],
   "source": [
    "#Reset the index\n",
    "hamilton_citybike_station_eda_df.reset_index(drop=True, inplace=True)"
   ]
  },
  {
   "cell_type": "code",
   "execution_count": 24,
   "metadata": {},
   "outputs": [
    {
     "data": {
      "text/plain": [
       "['total_bikes',\n",
       " 'venue_count',\n",
       " 'distance_mean',\n",
       " 'rating_mean',\n",
       " 'review_count_mean',\n",
       " 'citybike_station']"
      ]
     },
     "execution_count": 24,
     "metadata": {},
     "output_type": "execute_result"
    }
   ],
   "source": [
    "# Prepare columns for renaming df\n",
    "cols = []\n",
    "for column in hamilton_citybike_station_eda_df.columns:\n",
    "    cols.append(column[0] + '_' + column[1])\n",
    "cols[0] = 'total_bikes'\n",
    "cols[1] = 'venue_count'\n",
    "cols[-1] = 'citybike_station'\n",
    "cols"
   ]
  },
  {
   "cell_type": "code",
   "execution_count": 25,
   "metadata": {},
   "outputs": [],
   "source": [
    "# Drop 2nd index of columns\n",
    "hamilton_citybike_station_eda_df = hamilton_citybike_station_eda_df.droplevel(1, axis=1)"
   ]
  },
  {
   "cell_type": "code",
   "execution_count": 26,
   "metadata": {},
   "outputs": [],
   "source": [
    "# Rename dataframe columns\n",
    "cols_dict = dict(zip(hamilton_citybike_station_eda_df.columns, cols))\n",
    "hamilton_citybike_station_eda_df.rename(columns=cols_dict, inplace=True)"
   ]
  },
  {
   "cell_type": "code",
   "execution_count": 27,
   "metadata": {},
   "outputs": [
    {
     "name": "stdout",
     "output_type": "stream",
     "text": [
      "<class 'pandas.core.frame.DataFrame'>\n",
      "RangeIndex: 144 entries, 0 to 143\n",
      "Data columns (total 6 columns):\n",
      " #   Column             Non-Null Count  Dtype  \n",
      "---  ------             --------------  -----  \n",
      " 0   total_bikes        144 non-null    float64\n",
      " 1   venue_count        144 non-null    int64  \n",
      " 2   distance_mean      144 non-null    float64\n",
      " 3   rating_mean        144 non-null    float64\n",
      " 4   review_count_mean  144 non-null    float64\n",
      " 5   citybike_station   144 non-null    object \n",
      "dtypes: float64(4), int64(1), object(1)\n",
      "memory usage: 6.9+ KB\n"
     ]
    }
   ],
   "source": [
    "hamilton_citybike_station_eda_df.info()"
   ]
  },
  {
   "cell_type": "code",
   "execution_count": 28,
   "metadata": {},
   "outputs": [],
   "source": [
    "# Rearrange columns to have bike station name as 1st column\n",
    "rearranged_cols = cols[-1:]+cols[:-1]\n",
    "hamilton_citybike_station_eda_df = hamilton_citybike_station_eda_df[rearranged_cols]"
   ]
  },
  {
   "cell_type": "code",
   "execution_count": 29,
   "metadata": {},
   "outputs": [],
   "source": [
    "# Convert total_bikes column to integer\n",
    "hamilton_citybike_station_eda_df['total_bikes'] = hamilton_citybike_station_eda_df['total_bikes'].astype('int64')"
   ]
  },
  {
   "cell_type": "code",
   "execution_count": 30,
   "metadata": {},
   "outputs": [
    {
     "name": "stdout",
     "output_type": "stream",
     "text": [
      "<class 'pandas.core.frame.DataFrame'>\n",
      "RangeIndex: 144 entries, 0 to 143\n",
      "Data columns (total 6 columns):\n",
      " #   Column             Non-Null Count  Dtype  \n",
      "---  ------             --------------  -----  \n",
      " 0   citybike_station   144 non-null    object \n",
      " 1   total_bikes        144 non-null    int64  \n",
      " 2   venue_count        144 non-null    int64  \n",
      " 3   distance_mean      144 non-null    float64\n",
      " 4   rating_mean        144 non-null    float64\n",
      " 5   review_count_mean  144 non-null    float64\n",
      "dtypes: float64(3), int64(2), object(1)\n",
      "memory usage: 6.9+ KB\n"
     ]
    }
   ],
   "source": [
    "hamilton_citybike_station_eda_df.info()"
   ]
  },
  {
   "cell_type": "code",
   "execution_count": 31,
   "metadata": {},
   "outputs": [],
   "source": [
    "# Save dataframe into sqlite database\n",
    "conn = sqlite3.connect('../data/hamilton.db')\n",
    "hamilton_citybike_station_eda_df.to_sql('hamilton_eda', conn, if_exists='replace')\n",
    "conn.close()"
   ]
  },
  {
   "cell_type": "markdown",
   "metadata": {},
   "source": [
    "Look at the data before and after the join to validate your data."
   ]
  },
  {
   "cell_type": "code",
   "execution_count": 32,
   "metadata": {},
   "outputs": [],
   "source": [
    "# Connect to newly created database and load into a different dataframe, for comparison\n",
    "with create_engine('sqlite:///../data/hamilton.db/').connect() as conn:\n",
    "    temp_df = pd.read_sql_query(text('SELECT * FROM hamilton_eda'), conn, index_col='index')"
   ]
  },
  {
   "cell_type": "code",
   "execution_count": 33,
   "metadata": {},
   "outputs": [
    {
     "data": {
      "text/plain": [
       "citybike_station     0\n",
       "total_bikes          0\n",
       "venue_count          0\n",
       "distance_mean        0\n",
       "rating_mean          0\n",
       "review_count_mean    0\n",
       "dtype: int64"
      ]
     },
     "execution_count": 33,
     "metadata": {},
     "output_type": "execute_result"
    }
   ],
   "source": [
    "# Check the sum of false instances to see if anything changed after the data was imported into a database file\n",
    "(temp_df != hamilton_citybike_station_eda_df).sum()"
   ]
  },
  {
   "cell_type": "code",
   "execution_count": null,
   "metadata": {},
   "outputs": [],
   "source": []
  }
 ],
 "metadata": {
  "kernelspec": {
   "display_name": "lhl_env",
   "language": "python",
   "name": "lhl_env"
  },
  "language_info": {
   "codemirror_mode": {
    "name": "ipython",
    "version": 3
   },
   "file_extension": ".py",
   "mimetype": "text/x-python",
   "name": "python",
   "nbconvert_exporter": "python",
   "pygments_lexer": "ipython3",
   "version": "3.9.17"
  }
 },
 "nbformat": 4,
 "nbformat_minor": 4
}

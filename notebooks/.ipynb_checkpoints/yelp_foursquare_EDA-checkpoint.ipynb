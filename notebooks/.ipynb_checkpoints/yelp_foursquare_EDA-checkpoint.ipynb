{
 "cells": [
  {
   "cell_type": "code",
   "execution_count": 1,
   "metadata": {},
   "outputs": [],
   "source": [
    "# imports\n",
    "import pandas as pd\n",
    "import numpy as np\n",
    "import os # use this to access your environment variables\n",
    "import requests # this will be used to call the APIs"
   ]
  },
  {
   "cell_type": "markdown",
   "metadata": {},
   "source": [
    "# Foursquare"
   ]
  },
  {
   "cell_type": "markdown",
   "metadata": {},
   "source": [
    "Send a request to Foursquare with a small radius (1000m) for all the bike stations in your city of choice. "
   ]
  },
  {
   "cell_type": "markdown",
   "metadata": {},
   "source": [
    "Parse through the response to get the POI (such as restaurants, bars, etc) details you want (ratings, name, location, etc)"
   ]
  },
  {
   "cell_type": "markdown",
   "metadata": {},
   "source": [
    "Put your parsed results into a DataFrame"
   ]
  },
  {
   "cell_type": "code",
   "execution_count": 2,
   "metadata": {},
   "outputs": [],
   "source": [
    "FOURSQUARE_KEY = os.getenv('FOURSQUARE_KEY')"
   ]
  },
  {
   "cell_type": "code",
   "execution_count": 3,
   "metadata": {},
   "outputs": [],
   "source": [
    "def get_venues_fs(latitude:float, longitude:float, radius:float, api_key:str):\n",
    "    \"\"\"\n",
    "    Get venues from foursquare with a specified place type and coordinates.\n",
    "    Args:\n",
    "        latitude (float): latitude for query (must be combined with longitude)\n",
    "        longitude (float): longitude for query (must be combined with latitude)\n",
    "        api_key (str): foursquare API to use for query\n",
    "    \n",
    "    Returns:\n",
    "        response: response object from the requests library.\n",
    "    \"\"\"\n",
    "\n",
    "    headers = {'accept': 'application/json', 'Authorization': api_key}\n",
    "    \n",
    "    url = f'https://api.foursquare.com/v3/places/search?ll={latitude},{longitude}&radius={radius}'\n",
    "\n",
    "    return requests.get(url, headers=headers).json()"
   ]
  },
  {
   "cell_type": "code",
   "execution_count": 4,
   "metadata": {},
   "outputs": [],
   "source": [
    "#Import bike station data from part 1\n",
    "hamilton_citybike_df = pd.read_csv('../data/hamilton_citybike.csv', index_col=0)"
   ]
  },
  {
   "cell_type": "code",
   "execution_count": 5,
   "metadata": {},
   "outputs": [
    {
     "name": "stdout",
     "output_type": "stream",
     "text": [
      "   empty_slots  free_bikes                                id   latitude  \\\n",
      "0            6           6  45dbb0009135e465f49f054517cbe74d  43.259126   \n",
      "1           23          11  cd881edad122a75c57d94b381cdfc6c0  43.269288   \n",
      "2           25           0  024a3edf037cb411d16acc08a7fcb954  43.267859   \n",
      "3            9           5  b933317ff2861c45aacbea4cbf4b541f  43.263198   \n",
      "4           10           7  20dc109608315db09a8332d6e6940c75  43.256132   \n",
      "\n",
      "   longitude             name                    timestamp  total_bikes  \\\n",
      "0 -79.877212     Hess at king  2023-08-30T01:32:48.695000Z           12   \n",
      "1 -79.871327    Bayfront Park  2023-08-30T01:32:48.697000Z           34   \n",
      "2 -79.867923  Bay at Strachan  2023-08-30T01:32:48.698000Z           25   \n",
      "3 -79.871803  Bay at Mulberry  2023-08-30T01:32:48.698000Z           14   \n",
      "4 -79.874499        City Hall  2023-08-30T01:32:48.700000Z           17   \n",
      "\n",
      "                                             address  \n",
      "0                     15 Hess Street North, Hamilton  \n",
      "1  Harbour Front Drive, North End, Hamilton, Ontario  \n",
      "2                     325 Bay Street North, Hamilton  \n",
      "3  177, Bay Street North, Hess Village, Hamilton,...  \n",
      "4                      58 Bay Street South, Hamilton  \n"
     ]
    }
   ],
   "source": [
    "print(hamilton_citybike_df.head())"
   ]
  },
  {
   "cell_type": "code",
   "execution_count": 6,
   "metadata": {},
   "outputs": [],
   "source": [
    "# Testing out the function with a single data point\n",
    "test_data = get_venues_fs(43.259126, -79.877212, 1000, FOURSQUARE_KEY)"
   ]
  },
  {
   "cell_type": "code",
   "execution_count": 7,
   "metadata": {},
   "outputs": [],
   "source": [
    "test_df = pd.DataFrame(test_data['results'])"
   ]
  },
  {
   "cell_type": "code",
   "execution_count": 8,
   "metadata": {},
   "outputs": [
    {
     "name": "stdout",
     "output_type": "stream",
     "text": [
      "                     fsq_id  \\\n",
      "0  5796abdc498eb9b6b1d59458   \n",
      "1  579b8d6b498ea8f02d7fc402   \n",
      "2  56151620498e131e3dcb19e7   \n",
      "3  4c57494d30d82d7fd583d962   \n",
      "4  4c09190935ac9c74b85e85f7   \n",
      "\n",
      "                                          categories chains  distance  \\\n",
      "0  [{'id': 13055, 'name': 'Fried Chicken Joint', ...     []        19   \n",
      "1  [{'id': 13055, 'name': 'Fried Chicken Joint', ...     []        22   \n",
      "2  [{'id': 13035, 'name': 'Coffee Shop', 'icon': ...     []        81   \n",
      "3  [{'id': 13298, 'name': 'Lebanese Restaurant', ...     []       111   \n",
      "4  [{'id': 16065, 'name': 'Neighborhood', 'icon':...     []        77   \n",
      "\n",
      "                                            geocodes  \\\n",
      "0  {'main': {'latitude': 43.259271, 'longitude': ...   \n",
      "1  {'main': {'latitude': 43.259153, 'longitude': ...   \n",
      "2  {'drop_off': {'latitude': 43.25919, 'longitude...   \n",
      "3  {'main': {'latitude': 43.259414, 'longitude': ...   \n",
      "4  {'drop_off': {'latitude': 43.258433, 'longitud...   \n",
      "\n",
      "                                  link  \\\n",
      "0  /v3/places/5796abdc498eb9b6b1d59458   \n",
      "1  /v3/places/579b8d6b498ea8f02d7fc402   \n",
      "2  /v3/places/56151620498e131e3dcb19e7   \n",
      "3  /v3/places/4c57494d30d82d7fd583d962   \n",
      "4  /v3/places/4c09190935ac9c74b85e85f7   \n",
      "\n",
      "                                            location  \\\n",
      "0  {'address': '274 King St W', 'address_extended...   \n",
      "1  {'address': '274 King St W', 'address_extended...   \n",
      "2  {'address': '300 King St W', 'country': 'CA', ...   \n",
      "3  {'address': '306 King St W', 'country': 'CA', ...   \n",
      "4  {'country': 'CA', 'formatted_address': 'Hamilt...   \n",
      "\n",
      "                           name related_places         timezone  \n",
      "0  Coop Wicked Chicken Hamilton             {}  America/Toronto  \n",
      "1                 Coop Hamilton             {}  America/Toronto  \n",
      "2                  Ark + Anchor             {}  America/Toronto  \n",
      "3   La Luna Restaurant Downtown             {}  America/Toronto  \n",
      "4                  Hess Village             {}  America/Toronto  \n"
     ]
    }
   ],
   "source": [
    "print(test_df.head())"
   ]
  },
  {
   "cell_type": "code",
   "execution_count": 9,
   "metadata": {},
   "outputs": [],
   "source": [
    "# Build a list of columns to use for the Hamilton CityBikes dataframe\n",
    "fs_df_cols = list(test_df.columns)\n",
    "fs_df_cols.append('citybike_station')"
   ]
  },
  {
   "cell_type": "code",
   "execution_count": 10,
   "metadata": {},
   "outputs": [],
   "source": [
    "def fs_venue_df(df):\n",
    "    \"\"\"\n",
    "    Returns a dataframe containing all the venues returned by querying the Foursquare API.\n",
    "    df: Dataframe containing the station name, latitude and longitude.\n",
    "    \"\"\"\n",
    "    temp_data = get_venues_fs(df['latitude'], df['longitude'], 1000, FOURSQUARE_KEY)\n",
    "    temp_df = pd.DataFrame(temp_data['results'])\n",
    "    temp_df['citybike_station'] = df['name']\n",
    "\n",
    "    return temp_df"
   ]
  },
  {
   "cell_type": "code",
   "execution_count": 11,
   "metadata": {},
   "outputs": [
    {
     "data": {
      "text/html": [
       "<div>\n",
       "<style scoped>\n",
       "    .dataframe tbody tr th:only-of-type {\n",
       "        vertical-align: middle;\n",
       "    }\n",
       "\n",
       "    .dataframe tbody tr th {\n",
       "        vertical-align: top;\n",
       "    }\n",
       "\n",
       "    .dataframe thead th {\n",
       "        text-align: right;\n",
       "    }\n",
       "</style>\n",
       "<table border=\"1\" class=\"dataframe\">\n",
       "  <thead>\n",
       "    <tr style=\"text-align: right;\">\n",
       "      <th></th>\n",
       "      <th>fsq_id</th>\n",
       "      <th>categories</th>\n",
       "      <th>chains</th>\n",
       "      <th>distance</th>\n",
       "      <th>geocodes</th>\n",
       "      <th>link</th>\n",
       "      <th>location</th>\n",
       "      <th>name</th>\n",
       "      <th>related_places</th>\n",
       "      <th>timezone</th>\n",
       "      <th>citybike_station</th>\n",
       "    </tr>\n",
       "  </thead>\n",
       "  <tbody>\n",
       "  </tbody>\n",
       "</table>\n",
       "</div>"
      ],
      "text/plain": [
       "Empty DataFrame\n",
       "Columns: [fsq_id, categories, chains, distance, geocodes, link, location, name, related_places, timezone, citybike_station]\n",
       "Index: []"
      ]
     },
     "execution_count": 11,
     "metadata": {},
     "output_type": "execute_result"
    }
   ],
   "source": [
    "# Build a null dataframe with the appropriate columns\n",
    "hamilton_citybike_fs_df = pd.DataFrame(columns=fs_df_cols)\n",
    "hamilton_citybike_fs_df.head()"
   ]
  },
  {
   "cell_type": "code",
   "execution_count": 12,
   "metadata": {},
   "outputs": [],
   "source": [
    "# Create a separate dataframe to use for building the Foursquare query result dataframe\n",
    "hamilton_citybike_df_partial = hamilton_citybike_df[['name', 'latitude', 'longitude']]"
   ]
  },
  {
   "cell_type": "code",
   "execution_count": 13,
   "metadata": {
    "scrolled": true
   },
   "outputs": [],
   "source": [
    "# Iterate through each row of the dataframe and append to the Citybike/Foursquare dataframe\n",
    "for i, rows in hamilton_citybike_df_partial.iterrows():\n",
    "    temp_hamilton_fs_df = fs_venue_df(rows)\n",
    "    hamilton_citybike_fs_df = pd.concat([hamilton_citybike_fs_df, temp_hamilton_fs_df])"
   ]
  },
  {
   "cell_type": "code",
   "execution_count": 14,
   "metadata": {},
   "outputs": [],
   "source": [
    "# Retrieve only the category name from the categories column\n",
    "hamilton_citybike_fs_df['category'] = hamilton_citybike_fs_df['categories'].apply(lambda x: x[0]['name'] if len(x) > 0 else 'N/A')"
   ]
  },
  {
   "cell_type": "code",
   "execution_count": 15,
   "metadata": {},
   "outputs": [],
   "source": [
    "# Create a column that gets only the latitude information from the geocodes column\n",
    "hamilton_citybike_fs_df['latitude'] = hamilton_citybike_fs_df['geocodes'].apply(lambda x: x[list(x.keys())[0]]['latitude'] if len(x) > 0 else np.nan)"
   ]
  },
  {
   "cell_type": "code",
   "execution_count": 16,
   "metadata": {},
   "outputs": [],
   "source": [
    "# Create a column that gets only the longitude information from the geocodes column\n",
    "hamilton_citybike_fs_df['longitude'] = hamilton_citybike_fs_df['geocodes'].apply(lambda x: x[list(x.keys())[0]]['longitude'] if len(x) > 0 else np.nan)"
   ]
  },
  {
   "cell_type": "code",
   "execution_count": 17,
   "metadata": {},
   "outputs": [],
   "source": [
    "# Create a column that gets only the formal adddress information from the location column\n",
    "hamilton_citybike_fs_df['address'] = hamilton_citybike_fs_df['location'].apply(lambda x: x['formatted_address'] if 'formatted_address' in list(x.keys()) else 'N/A')"
   ]
  },
  {
   "cell_type": "code",
   "execution_count": 18,
   "metadata": {},
   "outputs": [],
   "source": [
    "# Only keep columns that are relevant\n",
    "hamilton_citybike_fs_df = hamilton_citybike_fs_df[['citybike_station',\n",
    "                                                   'name',\n",
    "                                                   'address',\n",
    "                                                   'latitude',\n",
    "                                                   'longitude',\n",
    "                                                   'distance',\n",
    "                                                   'category']]"
   ]
  },
  {
   "cell_type": "code",
   "execution_count": 19,
   "metadata": {},
   "outputs": [],
   "source": [
    "# Reset the index, needed for converting column types to numerical ones\n",
    "hamilton_citybike_fs_df.reset_index(drop=True, inplace=True)"
   ]
  },
  {
   "cell_type": "code",
   "execution_count": 20,
   "metadata": {},
   "outputs": [],
   "source": [
    "# Convert the distance column to a numerical type\n",
    "hamilton_citybike_fs_df['distance'] = hamilton_citybike_fs_df['distance'].astype('float64')"
   ]
  },
  {
   "cell_type": "code",
   "execution_count": 21,
   "metadata": {},
   "outputs": [
    {
     "data": {
      "text/plain": [
       "citybike_station     object\n",
       "name                 object\n",
       "address              object\n",
       "latitude            float64\n",
       "longitude           float64\n",
       "distance            float64\n",
       "category             object\n",
       "dtype: object"
      ]
     },
     "execution_count": 21,
     "metadata": {},
     "output_type": "execute_result"
    }
   ],
   "source": [
    "hamilton_citybike_fs_df.dtypes"
   ]
  },
  {
   "cell_type": "code",
   "execution_count": 22,
   "metadata": {},
   "outputs": [
    {
     "name": "stdout",
     "output_type": "stream",
     "text": [
      "  citybike_station                          name  \\\n",
      "0     Hess at king  Coop Wicked Chicken Hamilton   \n",
      "1     Hess at king                 Coop Hamilton   \n",
      "2     Hess at king                  Ark + Anchor   \n",
      "3     Hess at king   La Luna Restaurant Downtown   \n",
      "4     Hess at king                  Hess Village   \n",
      "\n",
      "                                            address   latitude  longitude  \\\n",
      "0      274 King St W (Hess St), Hamilton ON L8P 1J6  43.259271 -79.877373   \n",
      "1                274 King St W, Hamilton ON L8P 1J6  43.259153 -79.877446   \n",
      "2                300 King St W, Hamilton ON L8P 1B1  43.259190 -79.878071   \n",
      "3  306 King St W (at Queen St), Hamilton ON L8P 1B1  43.259414 -79.878417   \n",
      "4                                       Hamilton ON  43.258433 -79.877560   \n",
      "\n",
      "   distance             category  \n",
      "0      19.0  Fried Chicken Joint  \n",
      "1      22.0  Fried Chicken Joint  \n",
      "2      81.0          Coffee Shop  \n",
      "3     111.0  Lebanese Restaurant  \n",
      "4      77.0         Neighborhood  \n"
     ]
    }
   ],
   "source": [
    "print(hamilton_citybike_fs_df.head())"
   ]
  },
  {
   "cell_type": "code",
   "execution_count": 23,
   "metadata": {},
   "outputs": [],
   "source": [
    "# Export the Foursquare data into a CSV file\n",
    "hamilton_citybike_fs_df.to_csv('../data/hamilton_citybike_fs.csv')"
   ]
  },
  {
   "cell_type": "markdown",
   "metadata": {},
   "source": [
    "# Yelp"
   ]
  },
  {
   "cell_type": "markdown",
   "metadata": {},
   "source": [
    "Parse through the response to get the POI (such as restaurants, bars, etc) details you want (ratings, name, location, etc)"
   ]
  },
  {
   "cell_type": "markdown",
   "metadata": {},
   "source": [
    "Send a request to Yelp with a small radius (1000m) for all the bike stations in your city of choice. "
   ]
  },
  {
   "cell_type": "markdown",
   "metadata": {},
   "source": [
    "Put your parsed results into a DataFrame"
   ]
  },
  {
   "cell_type": "code",
   "execution_count": 24,
   "metadata": {},
   "outputs": [],
   "source": [
    "YELP_KEY = os.getenv('YELP_KEY')"
   ]
  },
  {
   "cell_type": "code",
   "execution_count": 25,
   "metadata": {},
   "outputs": [],
   "source": [
    "def get_venues_yelp(latitude, longitude, radius, api_key):\n",
    "    \"\"\"\n",
    "    Get venues from Yelp with a specified place type and coordinates.\n",
    "    Args:\n",
    "        latitude (float): latitude for query (must be combined with longitude)\n",
    "        longitude (float): longitude for query (must be combined with latitude)\n",
    "        api_key (str): foursquare API to use for query\n",
    "    \n",
    "    Returns:\n",
    "        response: response object from the requests library.\n",
    "    \"\"\"\n",
    "\n",
    "    headers = {'accept': 'application/json', 'Authorization': 'Bearer ' + api_key}\n",
    "    \n",
    "    url = f'https://api.yelp.com/v3/businesses/search?latitude={latitude}&longitude={longitude}&radius={radius}'\n",
    "\n",
    "    return requests.get(url, headers=headers).json()"
   ]
  },
  {
   "cell_type": "code",
   "execution_count": 26,
   "metadata": {},
   "outputs": [],
   "source": [
    "# Testing out the function with a single data point\n",
    "test_data_y = get_venues_yelp(43.259126, -79.877212, 1000, YELP_KEY)"
   ]
  },
  {
   "cell_type": "code",
   "execution_count": 27,
   "metadata": {},
   "outputs": [
    {
     "data": {
      "text/plain": [
       "{'id': 'vqyK2q3zJ74TIT1-7Bf3Tg',\n",
       " 'alias': 'la-luna-hamilton',\n",
       " 'name': 'La Luna',\n",
       " 'image_url': 'https://s3-media2.fl.yelpcdn.com/bphoto/OBRpyj_wUqmDwKLtKU4pCA/o.jpg',\n",
       " 'is_closed': False,\n",
       " 'url': 'https://www.yelp.com/biz/la-luna-hamilton?adjust_creative=ma3WG-w6gNocu9m-Htrm9g&utm_campaign=yelp_api_v3&utm_medium=api_v3_business_search&utm_source=ma3WG-w6gNocu9m-Htrm9g',\n",
       " 'review_count': 63,\n",
       " 'categories': [{'alias': 'mideastern', 'title': 'Middle Eastern'}],\n",
       " 'rating': 4.0,\n",
       " 'coordinates': {'latitude': 43.25942165323912,\n",
       "  'longitude': -79.87848757635106},\n",
       " 'transactions': [],\n",
       " 'price': '$$',\n",
       " 'location': {'address1': '306 King Street W',\n",
       "  'address2': '',\n",
       "  'address3': '',\n",
       "  'city': 'Hamilton',\n",
       "  'zip_code': 'L8P 1B1',\n",
       "  'country': 'CA',\n",
       "  'state': 'ON',\n",
       "  'display_address': ['306 King Street W', 'Hamilton, ON L8P 1B1', 'Canada']},\n",
       " 'phone': '+19055770233',\n",
       " 'display_phone': '+1 905-577-0233',\n",
       " 'distance': 108.39989911183157}"
      ]
     },
     "execution_count": 27,
     "metadata": {},
     "output_type": "execute_result"
    }
   ],
   "source": [
    "test_data_y['businesses'][0]"
   ]
  },
  {
   "cell_type": "code",
   "execution_count": 28,
   "metadata": {},
   "outputs": [],
   "source": [
    "# Convert the result into a df\n",
    "test_df_y = pd.DataFrame(test_data_y['businesses'])"
   ]
  },
  {
   "cell_type": "code",
   "execution_count": 29,
   "metadata": {},
   "outputs": [],
   "source": [
    "# Drop irrelevant columns\n",
    "test_df_y.drop(columns=['id', 'alias', 'image_url', 'is_closed', 'url', 'transactions'], axis=1, inplace=True)"
   ]
  },
  {
   "cell_type": "code",
   "execution_count": 30,
   "metadata": {},
   "outputs": [
    {
     "name": "stdout",
     "output_type": "stream",
     "text": [
      "                         name  review_count  \\\n",
      "0                     La Luna            63   \n",
      "1                     Hambrgr           202   \n",
      "2  Earth To Table : Bread Bar           293   \n",
      "3                    The Ship           208   \n",
      "4                    The Mule           177   \n",
      "\n",
      "                                          categories  rating  \\\n",
      "0  [{'alias': 'mideastern', 'title': 'Middle East...     4.0   \n",
      "1  [{'alias': 'burgers', 'title': 'Burgers'}, {'a...     4.5   \n",
      "2  [{'alias': 'pizza', 'title': 'Pizza'}, {'alias...     4.0   \n",
      "3  [{'alias': 'seafood', 'title': 'Seafood'}, {'a...     4.0   \n",
      "4         [{'alias': 'mexican', 'title': 'Mexican'}]     4.0   \n",
      "\n",
      "                                         coordinates price  \\\n",
      "0  {'latitude': 43.25942165323912, 'longitude': -...    $$   \n",
      "1      {'latitude': 43.25721, 'longitude': -79.8669}    $$   \n",
      "2     {'latitude': 43.25284, 'longitude': -79.88702}    $$   \n",
      "3        {'latitude': 43.25215, 'longitude': -79.87}    $$   \n",
      "4     {'latitude': 43.25726, 'longitude': -79.86713}    $$   \n",
      "\n",
      "                                            location         phone  \\\n",
      "0  {'address1': '306 King Street W', 'address2': ...  +19055770233   \n",
      "1  {'address1': '49 King William Street', 'addres...  +12893891212   \n",
      "2  {'address1': '258 Locke Street S', 'address2':...  +19055222999   \n",
      "3  {'address1': '23 Augusta Street', 'address2': ...  +19055260792   \n",
      "4  {'address1': '41 King William Street', 'addres...  +12893892555   \n",
      "\n",
      "     display_phone     distance  \n",
      "0  +1 905-577-0233   108.399899  \n",
      "1  +1 289-389-1212   858.696078  \n",
      "2  +1 905-522-2999  1052.137875  \n",
      "3  +1 905-526-0792   970.881752  \n",
      "4  +1 289-389-2555   833.747473  \n"
     ]
    }
   ],
   "source": [
    "print(test_df_y.head())"
   ]
  },
  {
   "cell_type": "code",
   "execution_count": 31,
   "metadata": {},
   "outputs": [],
   "source": [
    "# Build a list of columns to use for the Hamilton Yelp dataframe\n",
    "yelp_df_cols = list(test_df_y.columns)\n",
    "yelp_df_cols.append('citybike_station')"
   ]
  },
  {
   "cell_type": "code",
   "execution_count": 32,
   "metadata": {},
   "outputs": [
    {
     "data": {
      "text/plain": [
       "['name',\n",
       " 'review_count',\n",
       " 'categories',\n",
       " 'rating',\n",
       " 'coordinates',\n",
       " 'price',\n",
       " 'location',\n",
       " 'phone',\n",
       " 'display_phone',\n",
       " 'distance',\n",
       " 'citybike_station']"
      ]
     },
     "execution_count": 32,
     "metadata": {},
     "output_type": "execute_result"
    }
   ],
   "source": [
    "yelp_df_cols"
   ]
  },
  {
   "cell_type": "code",
   "execution_count": 33,
   "metadata": {},
   "outputs": [],
   "source": [
    "def yelp_venue_df(df):\n",
    "    \"\"\"\n",
    "    Returns a dataframe containing all the venues returned by querying the Yelp API.\n",
    "    df: Dataframe containing the station name, latitude and longitude.\n",
    "    \"\"\"\n",
    "    temp_data = get_venues_yelp(df['latitude'], df['longitude'], 1000, YELP_KEY)\n",
    "    temp_df = pd.DataFrame(temp_data['businesses'])\n",
    "    temp_df['citybike_station'] = df['name']\n",
    "    temp_df.drop(columns=['id', 'alias', 'image_url', 'is_closed', 'url', 'transactions'], axis=1, inplace=True)\n",
    "    return temp_df"
   ]
  },
  {
   "cell_type": "code",
   "execution_count": 34,
   "metadata": {},
   "outputs": [
    {
     "data": {
      "text/html": [
       "<div>\n",
       "<style scoped>\n",
       "    .dataframe tbody tr th:only-of-type {\n",
       "        vertical-align: middle;\n",
       "    }\n",
       "\n",
       "    .dataframe tbody tr th {\n",
       "        vertical-align: top;\n",
       "    }\n",
       "\n",
       "    .dataframe thead th {\n",
       "        text-align: right;\n",
       "    }\n",
       "</style>\n",
       "<table border=\"1\" class=\"dataframe\">\n",
       "  <thead>\n",
       "    <tr style=\"text-align: right;\">\n",
       "      <th></th>\n",
       "      <th>name</th>\n",
       "      <th>review_count</th>\n",
       "      <th>categories</th>\n",
       "      <th>rating</th>\n",
       "      <th>coordinates</th>\n",
       "      <th>price</th>\n",
       "      <th>location</th>\n",
       "      <th>phone</th>\n",
       "      <th>display_phone</th>\n",
       "      <th>distance</th>\n",
       "      <th>citybike_station</th>\n",
       "    </tr>\n",
       "  </thead>\n",
       "  <tbody>\n",
       "  </tbody>\n",
       "</table>\n",
       "</div>"
      ],
      "text/plain": [
       "Empty DataFrame\n",
       "Columns: [name, review_count, categories, rating, coordinates, price, location, phone, display_phone, distance, citybike_station]\n",
       "Index: []"
      ]
     },
     "execution_count": 34,
     "metadata": {},
     "output_type": "execute_result"
    }
   ],
   "source": [
    "# Build a null dataframe with the appropriate columns\n",
    "hamilton_citybike_yelp_df = pd.DataFrame(columns=yelp_df_cols)\n",
    "hamilton_citybike_yelp_df.head()"
   ]
  },
  {
   "cell_type": "code",
   "execution_count": 35,
   "metadata": {},
   "outputs": [],
   "source": [
    "# Iterate through each row of the dataframe and append to the CityBikes/Yelp dataframe\n",
    "for i, rows in hamilton_citybike_df_partial.iterrows():\n",
    "    temp_hamilton_yelp_df = yelp_venue_df(rows)\n",
    "    hamilton_citybike_yelp_df = pd.concat([hamilton_citybike_yelp_df, temp_hamilton_yelp_df])"
   ]
  },
  {
   "cell_type": "code",
   "execution_count": 36,
   "metadata": {},
   "outputs": [
    {
     "name": "stdout",
     "output_type": "stream",
     "text": [
      "                         name review_count  \\\n",
      "0                     La Luna           63   \n",
      "1                     Hambrgr          202   \n",
      "2  Earth To Table : Bread Bar          293   \n",
      "3                    The Ship          208   \n",
      "4                    The Mule          177   \n",
      "\n",
      "                                          categories  rating  \\\n",
      "0  [{'alias': 'mideastern', 'title': 'Middle East...     4.0   \n",
      "1  [{'alias': 'burgers', 'title': 'Burgers'}, {'a...     4.5   \n",
      "2  [{'alias': 'pizza', 'title': 'Pizza'}, {'alias...     4.0   \n",
      "3  [{'alias': 'seafood', 'title': 'Seafood'}, {'a...     4.0   \n",
      "4         [{'alias': 'mexican', 'title': 'Mexican'}]     4.0   \n",
      "\n",
      "                                         coordinates price  \\\n",
      "0  {'latitude': 43.25942165323912, 'longitude': -...    $$   \n",
      "1      {'latitude': 43.25721, 'longitude': -79.8669}    $$   \n",
      "2     {'latitude': 43.25284, 'longitude': -79.88702}    $$   \n",
      "3        {'latitude': 43.25215, 'longitude': -79.87}    $$   \n",
      "4     {'latitude': 43.25726, 'longitude': -79.86713}    $$   \n",
      "\n",
      "                                            location         phone  \\\n",
      "0  {'address1': '306 King Street W', 'address2': ...  +19055770233   \n",
      "1  {'address1': '49 King William Street', 'addres...  +12893891212   \n",
      "2  {'address1': '258 Locke Street S', 'address2':...  +19055222999   \n",
      "3  {'address1': '23 Augusta Street', 'address2': ...  +19055260792   \n",
      "4  {'address1': '41 King William Street', 'addres...  +12893892555   \n",
      "\n",
      "     display_phone     distance citybike_station  \n",
      "0  +1 905-577-0233   108.424550     Hess at king  \n",
      "1  +1 289-389-1212   858.672096     Hess at king  \n",
      "2  +1 905-522-2999  1052.141521     Hess at king  \n",
      "3  +1 905-526-0792   970.855528     Hess at king  \n",
      "4  +1 289-389-2555   833.723417     Hess at king  \n"
     ]
    }
   ],
   "source": [
    "print(hamilton_citybike_yelp_df.head())"
   ]
  },
  {
   "cell_type": "code",
   "execution_count": 37,
   "metadata": {},
   "outputs": [
    {
     "data": {
      "text/plain": [
       "0     [{'alias': 'mideastern', 'title': 'Middle East...\n",
       "1     [{'alias': 'burgers', 'title': 'Burgers'}, {'a...\n",
       "2     [{'alias': 'pizza', 'title': 'Pizza'}, {'alias...\n",
       "3     [{'alias': 'seafood', 'title': 'Seafood'}, {'a...\n",
       "4            [{'alias': 'mexican', 'title': 'Mexican'}]\n",
       "                            ...                        \n",
       "15    [{'alias': 'cafes', 'title': 'Cafes'}, {'alias...\n",
       "16         [{'alias': 'bakeries', 'title': 'Bakeries'}]\n",
       "17    [{'alias': 'soup', 'title': 'Soup'}, {'alias':...\n",
       "18       [{'alias': 'coffee', 'title': 'Coffee & Tea'}]\n",
       "19         [{'alias': 'bakeries', 'title': 'Bakeries'}]\n",
       "Name: categories, Length: 2786, dtype: object"
      ]
     },
     "execution_count": 37,
     "metadata": {},
     "output_type": "execute_result"
    }
   ],
   "source": [
    "hamilton_citybike_yelp_df['categories']"
   ]
  },
  {
   "cell_type": "code",
   "execution_count": 38,
   "metadata": {},
   "outputs": [],
   "source": [
    "def get_categories(categories):\n",
    "    \"\"\"\n",
    "    Take a list of dicts containing category information and return a single string containing the categories\n",
    "    categories: data series containing a list of dicts\n",
    "    \"\"\"\n",
    "    if len(categories) == 0:\n",
    "        return 'N/A'\n",
    "    \n",
    "    cat = categories[0]['title']\n",
    "\n",
    "    if len(categories) > 0:\n",
    "        for i in range(1, len(categories)):\n",
    "            cat = cat + ', ' + categories[i]['title']\n",
    "\n",
    "    return cat"
   ]
  },
  {
   "cell_type": "code",
   "execution_count": 39,
   "metadata": {},
   "outputs": [],
   "source": [
    "# Parse through the categories column to get a single entry containing all the categories per row\n",
    "hamilton_citybike_yelp_df['category'] = hamilton_citybike_yelp_df['categories'].apply(lambda x: get_categories(x))"
   ]
  },
  {
   "cell_type": "code",
   "execution_count": 40,
   "metadata": {},
   "outputs": [
    {
     "data": {
      "text/plain": [
       "0     {'latitude': 43.25942165323912, 'longitude': -...\n",
       "1         {'latitude': 43.25721, 'longitude': -79.8669}\n",
       "2        {'latitude': 43.25284, 'longitude': -79.88702}\n",
       "3           {'latitude': 43.25215, 'longitude': -79.87}\n",
       "4        {'latitude': 43.25726, 'longitude': -79.86713}\n",
       "                            ...                        \n",
       "15     {'latitude': 43.262429, 'longitude': -79.905462}\n",
       "16       {'latitude': 43.26164, 'longitude': -79.90714}\n",
       "17       {'latitude': 43.26163, 'longitude': -79.90551}\n",
       "18    {'latitude': 43.262218950438864, 'longitude': ...\n",
       "19      {'latitude': 43.2623, 'longitude': -79.9042599}\n",
       "Name: coordinates, Length: 2786, dtype: object"
      ]
     },
     "execution_count": 40,
     "metadata": {},
     "output_type": "execute_result"
    }
   ],
   "source": [
    "hamilton_citybike_yelp_df['coordinates']"
   ]
  },
  {
   "cell_type": "code",
   "execution_count": 41,
   "metadata": {},
   "outputs": [],
   "source": [
    "# Get the latitude from the coordinates column\n",
    "hamilton_citybike_yelp_df['latitude'] = hamilton_citybike_yelp_df['coordinates'].apply(lambda x: x['latitude'])"
   ]
  },
  {
   "cell_type": "code",
   "execution_count": 42,
   "metadata": {},
   "outputs": [],
   "source": [
    "# Get the longitude from the coordinates column\n",
    "hamilton_citybike_yelp_df['longitude'] = hamilton_citybike_yelp_df['coordinates'].apply(lambda x: x['longitude'])"
   ]
  },
  {
   "cell_type": "code",
   "execution_count": 43,
   "metadata": {},
   "outputs": [
    {
     "data": {
      "text/plain": [
       "0     {'address1': '306 King Street W', 'address2': ...\n",
       "1     {'address1': '49 King William Street', 'addres...\n",
       "2     {'address1': '258 Locke Street S', 'address2':...\n",
       "3     {'address1': '23 Augusta Street', 'address2': ...\n",
       "4     {'address1': '41 King William Street', 'addres...\n",
       "                            ...                        \n",
       "15    {'address1': '1008 King Street W', 'address2':...\n",
       "16    {'address1': '1050 King Street W', 'address2':...\n",
       "17    {'address1': '1019 King St W', 'address2': '',...\n",
       "18    {'address1': '791 King Street W', 'address2': ...\n",
       "19    {'address1': '981 King St W', 'address2': None...\n",
       "Name: location, Length: 2786, dtype: object"
      ]
     },
     "execution_count": 43,
     "metadata": {},
     "output_type": "execute_result"
    }
   ],
   "source": [
    "hamilton_citybike_yelp_df['location']"
   ]
  },
  {
   "cell_type": "code",
   "execution_count": 44,
   "metadata": {},
   "outputs": [],
   "source": [
    "# Get the address information from the location column\n",
    "hamilton_citybike_yelp_df['address'] = hamilton_citybike_yelp_df['location'].apply(lambda x: x['display_address'] if 'display_address' in x.keys() else 'N/A')"
   ]
  },
  {
   "cell_type": "code",
   "execution_count": 45,
   "metadata": {},
   "outputs": [],
   "source": [
    "# Change empty string to 'N/A'\n",
    "hamilton_citybike_yelp_df[hamilton_citybike_yelp_df['phone'] == ''] = 'N/A'"
   ]
  },
  {
   "cell_type": "code",
   "execution_count": 46,
   "metadata": {},
   "outputs": [],
   "source": [
    "hamilton_citybike_yelp_df = hamilton_citybike_yelp_df[['citybike_station',\n",
    "                                                       'name',\n",
    "                                                       'address',\n",
    "                                                       'phone',\n",
    "                                                       'latitude',\n",
    "                                                       'longitude',\n",
    "                                                       'distance',\n",
    "                                                       'category',\n",
    "                                                       'price',\n",
    "                                                       'rating',\n",
    "                                                       'review_count']]"
   ]
  },
  {
   "cell_type": "code",
   "execution_count": 47,
   "metadata": {},
   "outputs": [],
   "source": [
    "# Reset the index\n",
    "hamilton_citybike_yelp_df.reset_index(drop=True, inplace=True)"
   ]
  },
  {
   "cell_type": "code",
   "execution_count": 48,
   "metadata": {},
   "outputs": [
    {
     "data": {
      "text/plain": [
       "0       [306 King Street W, Hamilton, ON L8P 1B1, Canada]\n",
       "1       [49 King William Street, Hamilton, ON L8R 1A2,...\n",
       "2       [258 Locke Street S, Hamilton, ON L8P 4B9, Can...\n",
       "3       [23 Augusta Street, Hamilton, ON L8N 1P6, Canada]\n",
       "4       [41 King William Street, Hamilton, ON L8R 1A2,...\n",
       "                              ...                        \n",
       "2781    [1008 King Street W, Hamilton, ON L8S 1L4, Can...\n",
       "2782    [1050 King Street W, Hamilton, ON L8S 1L5, Can...\n",
       "2783       [1019 King St W, Hamilton, ON L8S 1L1, Canada]\n",
       "2784                                                  N/A\n",
       "2785        [981 King St W, Hamilton, ON L8S 1K9, Canada]\n",
       "Name: address, Length: 2786, dtype: object"
      ]
     },
     "execution_count": 48,
     "metadata": {},
     "output_type": "execute_result"
    }
   ],
   "source": [
    "hamilton_citybike_yelp_df['address']"
   ]
  },
  {
   "cell_type": "code",
   "execution_count": 49,
   "metadata": {},
   "outputs": [],
   "source": [
    "def get_full_address(address):\n",
    "    \"\"\"\n",
    "    Returns a single string containing the address\n",
    "    address: list containing the full address in parts\n",
    "    \"\"\"\n",
    "    full_address = address[0]\n",
    "    if len(address) > 0:\n",
    "        for i in range(1, len(address)):\n",
    "            full_address = full_address + ', ' + address[i]\n",
    "    return full_address"
   ]
  },
  {
   "cell_type": "code",
   "execution_count": 50,
   "metadata": {},
   "outputs": [],
   "source": [
    "hamilton_citybike_yelp_df['address'] = hamilton_citybike_yelp_df['address'].apply(lambda x: get_full_address(x))"
   ]
  },
  {
   "cell_type": "code",
   "execution_count": 51,
   "metadata": {},
   "outputs": [],
   "source": [
    "# Convert all 'N/A' into NaN for converting the column type into a numeric one\n",
    "hamilton_citybike_yelp_df[hamilton_citybike_yelp_df['latitude'] == 'N/A'] = np.nan"
   ]
  },
  {
   "cell_type": "code",
   "execution_count": 52,
   "metadata": {},
   "outputs": [],
   "source": [
    "# Convert all 'N/A' into NaN for converting the column type into a numeric one\n",
    "hamilton_citybike_yelp_df[hamilton_citybike_yelp_df['longitude'] == 'N/A'] = np.nan"
   ]
  },
  {
   "cell_type": "code",
   "execution_count": 53,
   "metadata": {},
   "outputs": [],
   "source": [
    "# Convert the latitude column into a numerical type\n",
    "hamilton_citybike_yelp_df['latitude'] = hamilton_citybike_yelp_df['latitude'].astype('float64')"
   ]
  },
  {
   "cell_type": "code",
   "execution_count": 54,
   "metadata": {},
   "outputs": [],
   "source": [
    "# Convert the longitude column into a numerical type\n",
    "hamilton_citybike_yelp_df['longitude'] = hamilton_citybike_yelp_df['longitude'].astype('float64')"
   ]
  },
  {
   "cell_type": "code",
   "execution_count": 55,
   "metadata": {},
   "outputs": [],
   "source": [
    "# Convert the rating column into a numerical type\n",
    "hamilton_citybike_yelp_df['rating'] = hamilton_citybike_yelp_df['rating'].astype('float64')"
   ]
  },
  {
   "cell_type": "code",
   "execution_count": 56,
   "metadata": {},
   "outputs": [],
   "source": [
    "# Convert the review_count column into a numerical type\n",
    "hamilton_citybike_yelp_df['review_count'] = hamilton_citybike_yelp_df['review_count'].astype('float64')"
   ]
  },
  {
   "cell_type": "code",
   "execution_count": 57,
   "metadata": {},
   "outputs": [
    {
     "data": {
      "text/plain": [
       "citybike_station     object\n",
       "name                 object\n",
       "address              object\n",
       "phone                object\n",
       "latitude            float64\n",
       "longitude           float64\n",
       "distance             object\n",
       "category             object\n",
       "price                object\n",
       "rating              float64\n",
       "review_count        float64\n",
       "dtype: object"
      ]
     },
     "execution_count": 57,
     "metadata": {},
     "output_type": "execute_result"
    }
   ],
   "source": [
    "hamilton_citybike_yelp_df.dtypes"
   ]
  },
  {
   "cell_type": "code",
   "execution_count": 58,
   "metadata": {},
   "outputs": [
    {
     "name": "stdout",
     "output_type": "stream",
     "text": [
      "  citybike_station                        name  \\\n",
      "0     Hess at king                     La Luna   \n",
      "1     Hess at king                     Hambrgr   \n",
      "2     Hess at king  Earth To Table : Bread Bar   \n",
      "3     Hess at king                    The Ship   \n",
      "4     Hess at king                    The Mule   \n",
      "\n",
      "                                             address         phone   latitude  \\\n",
      "0    306 King Street W, Hamilton, ON L8P 1B1, Canada  +19055770233  43.259422   \n",
      "1  49 King William Street, Hamilton, ON L8R 1A2, ...  +12893891212  43.257210   \n",
      "2   258 Locke Street S, Hamilton, ON L8P 4B9, Canada  +19055222999  43.252840   \n",
      "3    23 Augusta Street, Hamilton, ON L8N 1P6, Canada  +19055260792  43.252150   \n",
      "4  41 King William Street, Hamilton, ON L8R 1A2, ...  +12893892555  43.257260   \n",
      "\n",
      "   longitude     distance                          category price  rating  \\\n",
      "0 -79.878488    108.42455                    Middle Eastern    $$     4.0   \n",
      "1 -79.866900   858.672096                 Burgers, Beer Bar    $$     4.5   \n",
      "2 -79.887020  1052.141521  Pizza, Breakfast & Brunch, Salad    $$     4.0   \n",
      "3 -79.870000   970.855528            Seafood, Pubs, Burgers    $$     4.0   \n",
      "4 -79.867130   833.723417                           Mexican    $$     4.0   \n",
      "\n",
      "   review_count  \n",
      "0          63.0  \n",
      "1         202.0  \n",
      "2         293.0  \n",
      "3         208.0  \n",
      "4         177.0  \n"
     ]
    }
   ],
   "source": [
    "print(hamilton_citybike_yelp_df.head())"
   ]
  },
  {
   "cell_type": "code",
   "execution_count": 59,
   "metadata": {},
   "outputs": [],
   "source": [
    "# Export the Yelp data into a CSV file\n",
    "hamilton_citybike_yelp_df.to_csv('../data/hamilton_citybike_yelp.csv')"
   ]
  },
  {
   "cell_type": "markdown",
   "metadata": {},
   "source": [
    "# Comparing Results"
   ]
  },
  {
   "cell_type": "markdown",
   "metadata": {},
   "source": [
    "Which API provided you with more complete data? Provide an explanation. "
   ]
  },
  {
   "cell_type": "markdown",
   "metadata": {},
   "source": [
    "#### The Foursquare API gave data that was mostly about location and a little bit about what category the location fits in.\n",
    "#### Meanwhile the Yelp API gave data that included location information, business contact information (such as phone number and website), what category the location fits into, affordability information, and review information (i.e. the number of Yelp reviews and the average score out of 5). Yelp also showed more venues.\n",
    "#### Given the amount of different kinds of information Yelp provided, it would be Yelp that gives a more complete picture of the location."
   ]
  },
  {
   "cell_type": "markdown",
   "metadata": {},
   "source": [
    "Get the top 10 restaurants according to their rating"
   ]
  },
  {
   "cell_type": "code",
   "execution_count": 60,
   "metadata": {},
   "outputs": [
    {
     "data": {
      "text/html": [
       "<div>\n",
       "<style scoped>\n",
       "    .dataframe tbody tr th:only-of-type {\n",
       "        vertical-align: middle;\n",
       "    }\n",
       "\n",
       "    .dataframe tbody tr th {\n",
       "        vertical-align: top;\n",
       "    }\n",
       "\n",
       "    .dataframe thead th {\n",
       "        text-align: right;\n",
       "    }\n",
       "</style>\n",
       "<table border=\"1\" class=\"dataframe\">\n",
       "  <thead>\n",
       "    <tr style=\"text-align: right;\">\n",
       "      <th></th>\n",
       "      <th>citybike_station</th>\n",
       "      <th>name</th>\n",
       "      <th>address</th>\n",
       "      <th>phone</th>\n",
       "      <th>latitude</th>\n",
       "      <th>longitude</th>\n",
       "      <th>distance</th>\n",
       "      <th>category</th>\n",
       "      <th>price</th>\n",
       "      <th>rating</th>\n",
       "      <th>review_count</th>\n",
       "    </tr>\n",
       "  </thead>\n",
       "  <tbody>\n",
       "    <tr>\n",
       "      <th>2304</th>\n",
       "      <td>Charlton at Queen</td>\n",
       "      <td>Tomah</td>\n",
       "      <td>132 Queen Street S, Hamilton, ON L8P 3S2, Canada</td>\n",
       "      <td>+19055221919</td>\n",
       "      <td>43.255460</td>\n",
       "      <td>-79.880640</td>\n",
       "      <td>390.977881</td>\n",
       "      <td>Syrian</td>\n",
       "      <td>NaN</td>\n",
       "      <td>5.0</td>\n",
       "      <td>7.0</td>\n",
       "    </tr>\n",
       "    <tr>\n",
       "      <th>1396</th>\n",
       "      <td>Maplewood at Springer</td>\n",
       "      <td>Cadillac Jax Bar &amp; Grill</td>\n",
       "      <td>532 Main Street E, Hamilton, ON L8M 1J1, Canada</td>\n",
       "      <td>+19055230259</td>\n",
       "      <td>43.249880</td>\n",
       "      <td>-79.849170</td>\n",
       "      <td>1111.809454</td>\n",
       "      <td>Bars, Canadian (New)</td>\n",
       "      <td>NaN</td>\n",
       "      <td>5.0</td>\n",
       "      <td>2.0</td>\n",
       "    </tr>\n",
       "    <tr>\n",
       "      <th>2089</th>\n",
       "      <td>Tisdale at Main</td>\n",
       "      <td>193 Bench Kitchen</td>\n",
       "      <td>193 King Street E, Hamilton, ON L8N 1B3, Canada</td>\n",
       "      <td>+12893897999</td>\n",
       "      <td>43.255053</td>\n",
       "      <td>-79.863376</td>\n",
       "      <td>903.836784</td>\n",
       "      <td>Sandwiches, Bakeries, Breakfast &amp; Brunch</td>\n",
       "      <td>NaN</td>\n",
       "      <td>5.0</td>\n",
       "      <td>6.0</td>\n",
       "    </tr>\n",
       "    <tr>\n",
       "      <th>843</th>\n",
       "      <td>Main at Columbia College</td>\n",
       "      <td>Pita Pit</td>\n",
       "      <td>1056 King Street West, Hamilton, ON L8S 1L7, C...</td>\n",
       "      <td>+19055297482</td>\n",
       "      <td>43.261426</td>\n",
       "      <td>-79.907595</td>\n",
       "      <td>318.65967</td>\n",
       "      <td>Sandwiches</td>\n",
       "      <td>$</td>\n",
       "      <td>5.0</td>\n",
       "      <td>6.0</td>\n",
       "    </tr>\n",
       "    <tr>\n",
       "      <th>1574</th>\n",
       "      <td>Main at Eastbourne</td>\n",
       "      <td>Speedy Subs</td>\n",
       "      <td>562 Concession Street, Hamilton, ON L8V 1A9, C...</td>\n",
       "      <td>+12893966984</td>\n",
       "      <td>43.240950</td>\n",
       "      <td>-79.852021</td>\n",
       "      <td>1138.289052</td>\n",
       "      <td>Hot Dogs, Sandwiches</td>\n",
       "      <td>$</td>\n",
       "      <td>5.0</td>\n",
       "      <td>6.0</td>\n",
       "    </tr>\n",
       "    <tr>\n",
       "      <th>1399</th>\n",
       "      <td>Maplewood at Springer</td>\n",
       "      <td>Tall Tree Sandwich Company</td>\n",
       "      <td>1000 King St E, Hamilton, ON L8M 1C8, Canada</td>\n",
       "      <td>+12892469233</td>\n",
       "      <td>43.250499</td>\n",
       "      <td>-79.833489</td>\n",
       "      <td>662.040211</td>\n",
       "      <td>Sandwiches, Juice Bars &amp; Smoothies</td>\n",
       "      <td>NaN</td>\n",
       "      <td>5.0</td>\n",
       "      <td>1.0</td>\n",
       "    </tr>\n",
       "    <tr>\n",
       "      <th>709</th>\n",
       "      <td>Westdale Library</td>\n",
       "      <td>Pita Pit</td>\n",
       "      <td>1056 King Street West, Hamilton, ON L8S 1L7, C...</td>\n",
       "      <td>+19055297482</td>\n",
       "      <td>43.261426</td>\n",
       "      <td>-79.907595</td>\n",
       "      <td>354.06717</td>\n",
       "      <td>Sandwiches</td>\n",
       "      <td>$</td>\n",
       "      <td>5.0</td>\n",
       "      <td>6.0</td>\n",
       "    </tr>\n",
       "    <tr>\n",
       "      <th>1180</th>\n",
       "      <td>Stinson at West</td>\n",
       "      <td>Bon Temps</td>\n",
       "      <td>61 Young Street, Hamilton, ON L8N 1V1, Canada</td>\n",
       "      <td>+19055237177</td>\n",
       "      <td>43.250880</td>\n",
       "      <td>-79.868720</td>\n",
       "      <td>746.642843</td>\n",
       "      <td>Canadian (New)</td>\n",
       "      <td>NaN</td>\n",
       "      <td>5.0</td>\n",
       "      <td>7.0</td>\n",
       "    </tr>\n",
       "    <tr>\n",
       "      <th>2433</th>\n",
       "      <td>King at Sherman</td>\n",
       "      <td>Golden Tenders</td>\n",
       "      <td>1150 King Street E, Hamilton, ON L8M 1E8, Canada</td>\n",
       "      <td>+13653668108</td>\n",
       "      <td>43.247855</td>\n",
       "      <td>-79.829075</td>\n",
       "      <td>843.687211</td>\n",
       "      <td>Fast Food, Southern</td>\n",
       "      <td>NaN</td>\n",
       "      <td>5.0</td>\n",
       "      <td>1.0</td>\n",
       "    </tr>\n",
       "    <tr>\n",
       "      <th>850</th>\n",
       "      <td>Main at Columbia College</td>\n",
       "      <td>The Alley</td>\n",
       "      <td>1050 King Street W, Unit 5, Hamilton, ON L8S 1...</td>\n",
       "      <td>+19055225300</td>\n",
       "      <td>43.261640</td>\n",
       "      <td>-79.907140</td>\n",
       "      <td>352.02522</td>\n",
       "      <td>Bubble Tea</td>\n",
       "      <td>NaN</td>\n",
       "      <td>5.0</td>\n",
       "      <td>4.0</td>\n",
       "    </tr>\n",
       "  </tbody>\n",
       "</table>\n",
       "</div>"
      ],
      "text/plain": [
       "              citybike_station                        name  \\\n",
       "2304         Charlton at Queen                       Tomah   \n",
       "1396     Maplewood at Springer    Cadillac Jax Bar & Grill   \n",
       "2089           Tisdale at Main           193 Bench Kitchen   \n",
       "843   Main at Columbia College                    Pita Pit   \n",
       "1574        Main at Eastbourne                 Speedy Subs   \n",
       "1399     Maplewood at Springer  Tall Tree Sandwich Company   \n",
       "709           Westdale Library                    Pita Pit   \n",
       "1180           Stinson at West                   Bon Temps   \n",
       "2433           King at Sherman              Golden Tenders   \n",
       "850   Main at Columbia College                   The Alley   \n",
       "\n",
       "                                                address         phone  \\\n",
       "2304   132 Queen Street S, Hamilton, ON L8P 3S2, Canada  +19055221919   \n",
       "1396    532 Main Street E, Hamilton, ON L8M 1J1, Canada  +19055230259   \n",
       "2089    193 King Street E, Hamilton, ON L8N 1B3, Canada  +12893897999   \n",
       "843   1056 King Street West, Hamilton, ON L8S 1L7, C...  +19055297482   \n",
       "1574  562 Concession Street, Hamilton, ON L8V 1A9, C...  +12893966984   \n",
       "1399       1000 King St E, Hamilton, ON L8M 1C8, Canada  +12892469233   \n",
       "709   1056 King Street West, Hamilton, ON L8S 1L7, C...  +19055297482   \n",
       "1180      61 Young Street, Hamilton, ON L8N 1V1, Canada  +19055237177   \n",
       "2433   1150 King Street E, Hamilton, ON L8M 1E8, Canada  +13653668108   \n",
       "850   1050 King Street W, Unit 5, Hamilton, ON L8S 1...  +19055225300   \n",
       "\n",
       "       latitude  longitude     distance  \\\n",
       "2304  43.255460 -79.880640   390.977881   \n",
       "1396  43.249880 -79.849170  1111.809454   \n",
       "2089  43.255053 -79.863376   903.836784   \n",
       "843   43.261426 -79.907595    318.65967   \n",
       "1574  43.240950 -79.852021  1138.289052   \n",
       "1399  43.250499 -79.833489   662.040211   \n",
       "709   43.261426 -79.907595    354.06717   \n",
       "1180  43.250880 -79.868720   746.642843   \n",
       "2433  43.247855 -79.829075   843.687211   \n",
       "850   43.261640 -79.907140    352.02522   \n",
       "\n",
       "                                      category price  rating  review_count  \n",
       "2304                                    Syrian   NaN     5.0           7.0  \n",
       "1396                      Bars, Canadian (New)   NaN     5.0           2.0  \n",
       "2089  Sandwiches, Bakeries, Breakfast & Brunch   NaN     5.0           6.0  \n",
       "843                                 Sandwiches     $     5.0           6.0  \n",
       "1574                      Hot Dogs, Sandwiches     $     5.0           6.0  \n",
       "1399        Sandwiches, Juice Bars & Smoothies   NaN     5.0           1.0  \n",
       "709                                 Sandwiches     $     5.0           6.0  \n",
       "1180                            Canadian (New)   NaN     5.0           7.0  \n",
       "2433                       Fast Food, Southern   NaN     5.0           1.0  \n",
       "850                                 Bubble Tea   NaN     5.0           4.0  "
      ]
     },
     "execution_count": 60,
     "metadata": {},
     "output_type": "execute_result"
    }
   ],
   "source": [
    "hamilton_citybike_yelp_df.sort_values(by='rating', ascending=False).head(10)"
   ]
  },
  {
   "cell_type": "code",
   "execution_count": 61,
   "metadata": {},
   "outputs": [
    {
     "data": {
      "text/plain": [
       "2304                         Tomah\n",
       "1396      Cadillac Jax Bar & Grill\n",
       "2089             193 Bench Kitchen\n",
       "843                       Pita Pit\n",
       "1574                   Speedy Subs\n",
       "1399    Tall Tree Sandwich Company\n",
       "709                       Pita Pit\n",
       "1180                     Bon Temps\n",
       "2433                Golden Tenders\n",
       "850                      The Alley\n",
       "Name: name, dtype: object"
      ]
     },
     "execution_count": 61,
     "metadata": {},
     "output_type": "execute_result"
    }
   ],
   "source": [
    "hamilton_citybike_yelp_df.sort_values(by='rating', ascending=False).head(10)['name']"
   ]
  },
  {
   "cell_type": "code",
   "execution_count": null,
   "metadata": {},
   "outputs": [],
   "source": []
  }
 ],
 "metadata": {
  "kernelspec": {
   "display_name": "lhl_env",
   "language": "python",
   "name": "lhl_env"
  },
  "language_info": {
   "codemirror_mode": {
    "name": "ipython",
    "version": 3
   },
   "file_extension": ".py",
   "mimetype": "text/x-python",
   "name": "python",
   "nbconvert_exporter": "python",
   "pygments_lexer": "ipython3",
   "version": "3.9.17"
  }
 },
 "nbformat": 4,
 "nbformat_minor": 4
}
